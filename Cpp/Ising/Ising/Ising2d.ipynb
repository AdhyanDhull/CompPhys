{
 "cells": [
  {
   "cell_type": "markdown",
   "metadata": {},
   "source": [
    "# Data Analysis for Ising model, 2-dim.  "
   ]
  },
  {
   "cell_type": "code",
   "execution_count": 1,
   "metadata": {},
   "outputs": [],
   "source": [
    "import numpy\n",
    "import numpy as np"
   ]
  },
  {
   "cell_type": "code",
   "execution_count": 2,
   "metadata": {},
   "outputs": [],
   "source": [
    "avgdatperT = np.fromfile(\"./data/IsingMetroCPU.bin\",dtype=np.float64) # averages data for each temperature T"
   ]
  },
  {
   "cell_type": "code",
   "execution_count": 6,
   "metadata": {},
   "outputs": [
    {
     "name": "stdout",
     "output_type": "stream",
     "text": [
      "<type 'numpy.ndarray'>\n",
      "12\n"
     ]
    }
   ],
   "source": [
    "print(type(avgdatperT))  \n",
    "# from output.h, expect to output each temperature T, \n",
    "# temperature T, Eavg, Evariance, Mavg, Mvariance, |M|_avg, so 6 parameters  \n",
    "print(avgdatperT.size)"
   ]
  },
  {
   "cell_type": "code",
   "execution_count": 7,
   "metadata": {},
   "outputs": [
    {
     "name": "stdout",
     "output_type": "stream",
     "text": [
      "[[  2.00000000e+00  -6.77092148e+03   2.50592649e+11  -9.99902209e-01\n",
      "    2.73698031e+00   9.99902209e-01]\n",
      " [  3.00000000e+00  -6.00547438e+03   1.97023069e+11  -9.99949609e-01\n",
      "    1.59447192e+00   9.99949609e-01]]\n"
     ]
    }
   ],
   "source": [
    "avgdatperT1 = avgdatperT.reshape(2,6)\n",
    "print(avgdatperT1)"
   ]
  },
  {
   "cell_type": "code",
   "execution_count": null,
   "metadata": {},
   "outputs": [],
   "source": []
  }
 ],
 "metadata": {
  "kernelspec": {
   "display_name": "Python 2",
   "language": "python",
   "name": "python2"
  },
  "language_info": {
   "codemirror_mode": {
    "name": "ipython",
    "version": 2
   },
   "file_extension": ".py",
   "mimetype": "text/x-python",
   "name": "python",
   "nbconvert_exporter": "python",
   "pygments_lexer": "ipython2",
   "version": "2.7.13"
  }
 },
 "nbformat": 4,
 "nbformat_minor": 2
}

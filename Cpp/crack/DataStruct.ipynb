{
 "cells": [
  {
   "cell_type": "markdown",
   "metadata": {},
   "source": [
    "cf. [3.2. What are Linear Structures?](http://interactivepython.org/runestone/static/pythonds/BasicDS/WhatAreLinearStructures.html)  \n",
    "\n"
   ]
  },
  {
   "cell_type": "code",
   "execution_count": 4,
   "metadata": {
    "collapsed": false
   },
   "outputs": [
    {
     "name": "stdout",
     "output_type": "stream",
     "text": [
      "/home/mobicfd/ReacCFD/CompPhys/Cpp/crack\n",
      "['12-cls.cpp', '.vscode', '.ipynb_checkpoints', 'trees_arbes', '12-cls01.cpp', '12-cls.exe', 'DataStruct.ipynb']\n"
     ]
    }
   ],
   "source": [
    "import os, sys\n",
    "print( os.getcwd() )\n",
    "print( os.listdir( os.getcwd() ) )"
   ]
  },
  {
   "cell_type": "code",
   "execution_count": 5,
   "metadata": {
    "collapsed": true
   },
   "outputs": [],
   "source": [
    "sys.path.insert( 0, os.getcwd() +'/trees_arbes/')\n",
    "from stack import Stack"
   ]
  },
  {
   "cell_type": "code",
   "execution_count": 6,
   "metadata": {
    "collapsed": false
   },
   "outputs": [
    {
     "name": "stdout",
     "output_type": "stream",
     "text": [
      "True\n",
      "[]\n",
      "False\n",
      "[4, 'dog']\n",
      "dog\n"
     ]
    }
   ],
   "source": [
    "s=Stack()\n",
    "print(s.isEmpty())\n",
    "print(s.items)\n",
    "s.push(4)\n",
    "s.push('dog')\n",
    "print(s.isEmpty())\n",
    "print(s.items)\n",
    "print(s.peek())"
   ]
  },
  {
   "cell_type": "code",
   "execution_count": 8,
   "metadata": {
    "collapsed": false
   },
   "outputs": [
    {
     "name": "stdout",
     "output_type": "stream",
     "text": [
      "False\n",
      "3\n",
      "[4, 'dog', True]\n",
      "True\n"
     ]
    }
   ],
   "source": [
    "s.push(True)\n",
    "print(s.isEmpty())\n",
    "print(s.size())\n",
    "print(s.items)\n",
    "print(s.peek())"
   ]
  },
  {
   "cell_type": "code",
   "execution_count": null,
   "metadata": {
    "collapsed": true
   },
   "outputs": [],
   "source": []
  }
 ],
 "metadata": {
  "kernelspec": {
   "display_name": "Python 2",
   "language": "python",
   "name": "python2"
  },
  "language_info": {
   "codemirror_mode": {
    "name": "ipython",
    "version": 2
   },
   "file_extension": ".py",
   "mimetype": "text/x-python",
   "name": "python",
   "nbconvert_exporter": "python",
   "pygments_lexer": "ipython2",
   "version": "2.7.12"
  }
 },
 "nbformat": 4,
 "nbformat_minor": 2
}

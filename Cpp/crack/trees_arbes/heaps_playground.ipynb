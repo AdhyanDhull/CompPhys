{
 "cells": [
  {
   "cell_type": "code",
   "execution_count": 1,
   "metadata": {
    "collapsed": true
   },
   "outputs": [],
   "source": [
    "L = 32\n",
    "L_even = 16\n",
    "L_odd = 15"
   ]
  },
  {
   "cell_type": "code",
   "execution_count": 2,
   "metadata": {
    "collapsed": false
   },
   "outputs": [
    {
     "data": {
      "text/plain": [
       "0"
      ]
     },
     "execution_count": 2,
     "metadata": {},
     "output_type": "execute_result"
    }
   ],
   "source": [
    "1 // 2"
   ]
  },
  {
   "cell_type": "code",
   "execution_count": 6,
   "metadata": {
    "collapsed": false
   },
   "outputs": [
    {
     "name": "stdout",
     "output_type": "stream",
     "text": [
      "1 0\n",
      "2 1\n",
      "1 2  \n",
      "3 1\n",
      "1 3  \n",
      "4 2\n",
      "2 4  \n",
      "1 2  \n",
      "5 2\n",
      "2 5  \n",
      "1 2  \n",
      "6 3\n",
      "3 6  \n",
      "1 3  \n",
      "7 3\n",
      "3 7  \n",
      "1 3  \n",
      "8 4\n",
      "4 8  \n",
      "2 4  \n",
      "1 2  \n",
      "9 4\n",
      "4 9  \n",
      "2 4  \n",
      "1 2  \n",
      "10 5\n",
      "5 10  \n",
      "2 5  \n",
      "1 2  \n",
      "11 5\n",
      "5 11  \n",
      "2 5  \n",
      "1 2  \n",
      "12 6\n",
      "6 12  \n",
      "3 6  \n",
      "1 3  \n",
      "13 6\n",
      "6 13  \n",
      "3 6  \n",
      "1 3  \n",
      "14 7\n",
      "7 14  \n",
      "3 7  \n",
      "1 3  \n",
      "15 7\n",
      "7 15  \n",
      "3 7  \n",
      "1 3  \n",
      "16 8\n",
      "8 16  \n",
      "4 8  \n",
      "2 4  \n",
      "1 2  \n",
      "17 8\n",
      "8 17  \n",
      "4 8  \n",
      "2 4  \n",
      "1 2  \n",
      "18 9\n",
      "9 18  \n",
      "4 9  \n",
      "2 4  \n",
      "1 2  \n",
      "19 9\n",
      "9 19  \n",
      "4 9  \n",
      "2 4  \n",
      "1 2  \n",
      "20 10\n",
      "10 20  \n",
      "5 10  \n",
      "2 5  \n",
      "1 2  \n",
      "21 10\n",
      "10 21  \n",
      "5 10  \n",
      "2 5  \n",
      "1 2  \n",
      "22 11\n",
      "11 22  \n",
      "5 11  \n",
      "2 5  \n",
      "1 2  \n",
      "23 11\n",
      "11 23  \n",
      "5 11  \n",
      "2 5  \n",
      "1 2  \n",
      "24 12\n",
      "12 24  \n",
      "6 12  \n",
      "3 6  \n",
      "1 3  \n",
      "25 12\n",
      "12 25  \n",
      "6 12  \n",
      "3 6  \n",
      "1 3  \n",
      "26 13\n",
      "13 26  \n",
      "6 13  \n",
      "3 6  \n",
      "1 3  \n",
      "27 13\n",
      "13 27  \n",
      "6 13  \n",
      "3 6  \n",
      "1 3  \n",
      "28 14\n",
      "14 28  \n",
      "7 14  \n",
      "3 7  \n",
      "1 3  \n",
      "29 14\n",
      "14 29  \n",
      "7 14  \n",
      "3 7  \n",
      "1 3  \n",
      "30 15\n",
      "15 30  \n",
      "7 15  \n",
      "3 7  \n",
      "1 3  \n",
      "31 15\n",
      "15 31  \n",
      "7 15  \n",
      "3 7  \n",
      "1 3  \n",
      "32 16\n",
      "16 32  \n",
      "8 16  \n",
      "4 8  \n",
      "2 4  \n",
      "1 2  \n"
     ]
    }
   ],
   "source": [
    "for l in range(1,L+1):\n",
    "    print l, l // 2\n",
    "    p = l // 2 # parent\n",
    "    while (p>0):\n",
    "        print p, l, ' '\n",
    "        l = l // 2\n",
    "        p = p // 2"
   ]
  },
  {
   "cell_type": "code",
   "execution_count": null,
   "metadata": {
    "collapsed": true
   },
   "outputs": [],
   "source": []
  }
 ],
 "metadata": {
  "kernelspec": {
   "display_name": "Python 2",
   "language": "python",
   "name": "python2"
  },
  "language_info": {
   "codemirror_mode": {
    "name": "ipython",
    "version": 2
   },
   "file_extension": ".py",
   "mimetype": "text/x-python",
   "name": "python",
   "nbconvert_exporter": "python",
   "pygments_lexer": "ipython2",
   "version": "2.7.12"
  }
 },
 "nbformat": 4,
 "nbformat_minor": 2
}

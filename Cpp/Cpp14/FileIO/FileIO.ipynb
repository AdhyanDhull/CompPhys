{
 "cells": [
  {
   "cell_type": "markdown",
   "metadata": {
    "deletable": true,
    "editable": true
   },
   "source": [
    "# NumPy arrays and C++ binary IO"
   ]
  },
  {
   "cell_type": "markdown",
   "metadata": {
    "deletable": true,
    "editable": true
   },
   "source": [
    "cf. Peter Gottschling.  **Discovering Modern C++: An Intensive Course for Scientists, Engineers, and Programmers**, A.2.7 Binary I/O.  \n",
    "\n",
    "cf. [Writing binary in c++ and read in python](https://stackoverflow.com/questions/37503346/writing-binary-in-c-and-read-in-python)"
   ]
  },
  {
   "cell_type": "code",
   "execution_count": 10,
   "metadata": {
    "collapsed": true,
    "deletable": true,
    "editable": true
   },
   "outputs": [],
   "source": [
    "import numpy\n",
    "import numpy as np"
   ]
  },
  {
   "cell_type": "code",
   "execution_count": 2,
   "metadata": {
    "collapsed": true,
    "deletable": true,
    "editable": true
   },
   "outputs": [],
   "source": [
    "# find out where we are in the file directory\n",
    "import os, sys"
   ]
  },
  {
   "cell_type": "code",
   "execution_count": 3,
   "metadata": {
    "collapsed": false,
    "deletable": true,
    "editable": true
   },
   "outputs": [
    {
     "name": "stdout",
     "output_type": "stream",
     "text": [
      "/home/mobicfd/ReacCFD/CompPhys/Cpp/Cpp14/FileIO\n"
     ]
    }
   ],
   "source": [
    "print(os.getcwd())\n",
    "datafilefolder = \"./data/\""
   ]
  },
  {
   "cell_type": "markdown",
   "metadata": {
    "deletable": true,
    "editable": true
   },
   "source": [
    "### [`numpy.ndarray.tofile`](https://docs.scipy.org/doc/numpy-1.13.0/reference/generated/numpy.ndarray.tofile.html)  \n",
    "\n",
    "`ndarray.tofile(fid,sep=\"\",format=\"%s\")`  \n",
    "\n",
    "Write array to a file as text or binary (default).  \n",
    "\n",
    "Data always written in 'C' order, independent of order of *a*.  \n",
    "\n",
    "#### Parameters  \n",
    "**fid** : *file or str*  \n",
    "        An open file object, or string containing filename.  \n",
    "**sep** : *str*\n",
    "        Separator between array items for text output.  If \"\" (empty), a binary file is written, equivalent to `file.write(a.tobytes())`  \n",
    "**format** : *str*\n",
    "        Format string for text file output.  Each entry in the array is formatted to text by first converting it to closest Python type, and then using \"format\" % item.  "
   ]
  },
  {
   "cell_type": "code",
   "execution_count": 4,
   "metadata": {
    "collapsed": true,
    "deletable": true,
    "editable": true
   },
   "outputs": [],
   "source": [
    "m=5\n",
    "n=4"
   ]
  },
  {
   "cell_type": "code",
   "execution_count": 5,
   "metadata": {
    "collapsed": true,
    "deletable": true,
    "editable": true
   },
   "outputs": [],
   "source": [
    "A = 11.111111*np.array(range(m*n),dtype=np.float32).reshape((m,n))"
   ]
  },
  {
   "cell_type": "code",
   "execution_count": 6,
   "metadata": {
    "collapsed": false,
    "deletable": true,
    "editable": true
   },
   "outputs": [
    {
     "name": "stdout",
     "output_type": "stream",
     "text": [
      "[[   0.           11.11111069   22.22222137   33.33333206]\n",
      " [  44.44444275   55.55555344   66.66666412   77.777771  ]\n",
      " [  88.8888855   100.          111.11110687  122.22221375]\n",
      " [ 133.33332825  144.44444275  155.55554199  166.66665649]\n",
      " [ 177.777771    188.8888855   200.          211.11109924]]\n"
     ]
    }
   ],
   "source": [
    "print(A)"
   ]
  },
  {
   "cell_type": "code",
   "execution_count": 13,
   "metadata": {
    "collapsed": true
   },
   "outputs": [],
   "source": [
    "Afilename = \"A_mat_5_4.npy\""
   ]
  },
  {
   "cell_type": "code",
   "execution_count": 9,
   "metadata": {
    "collapsed": false,
    "deletable": true,
    "editable": true
   },
   "outputs": [],
   "source": [
    "try:\n",
    "    A.tofile(datafilefolder+ Afilename )\n",
    "except IOError:\n",
    "    if not os.path.exists(datafilefolder):\n",
    "        os.makedirs(datafilefolder)"
   ]
  },
  {
   "cell_type": "code",
   "execution_count": 17,
   "metadata": {
    "collapsed": false,
    "deletable": true,
    "editable": true
   },
   "outputs": [
    {
     "name": "stdout",
     "output_type": "stream",
     "text": [
      "['A_mat_5_4.npy']\n",
      "['data', '.ipynb_checkpoints', 'FileIO.ipynb', 'binIO_playground.cu']\n"
     ]
    }
   ],
   "source": [
    "print(os.listdir(datafilefolder))\n",
    "print(os.listdir(os.getcwd()))"
   ]
  },
  {
   "cell_type": "markdown",
   "metadata": {},
   "source": [
    "### [`numpy.fromfile`](https://docs.scipy.org/doc/numpy-1.13.0/reference/generated/numpy.fromfile.html)  \n",
    "```  \n",
    "numpy.fromfile(file, dtype=float, count=-1, sep='')  \n",
    "```  "
   ]
  },
  {
   "cell_type": "code",
   "execution_count": 14,
   "metadata": {
    "collapsed": false
   },
   "outputs": [],
   "source": [
    "A_in = np.fromfile(datafilefolder+ Afilename, dtype=np.float32)"
   ]
  },
  {
   "cell_type": "code",
   "execution_count": 15,
   "metadata": {
    "collapsed": false
   },
   "outputs": [
    {
     "name": "stdout",
     "output_type": "stream",
     "text": [
      "[   0.           11.11111069   22.22222137   33.33333206   44.44444275\n",
      "   55.55555344   66.66666412   77.777771     88.8888855   100.\n",
      "  111.11110687  122.22221375  133.33332825  144.44444275  155.55554199\n",
      "  166.66665649  177.777771    188.8888855   200.          211.11109924]\n"
     ]
    }
   ],
   "source": [
    "print(A_in)"
   ]
  },
  {
   "cell_type": "markdown",
   "metadata": {
    "deletable": true,
    "editable": true
   },
   "source": [
    "Then go to CUDA C++14 file `binIO_playground.cu` or the C++14 version (serial version), `binIO_playground.cpp`.  Load it with [`std::ifstream`](http://www.cplusplus.com/reference/fstream/ifstream/), Input stream class to operate on files.  \n",
    "\n",
    "### `std::ifstream`   \n",
    "```  \n",
    "typedef basic_ifstream<char> ifstream;  \n",
    "```  \n",
    "\n",
    "### [`reinterpret_cast`](http://en.cppreference.com/w/cpp/language/reinterpret_cast)  \n",
    "```  \n",
    "reinterpret_cast < new_type > ( expression )  \n",
    "```  \n",
    "Returns a value of type new_type.  "
   ]
  },
  {
   "cell_type": "markdown",
   "metadata": {
    "collapsed": true,
    "deletable": true,
    "editable": true
   },
   "source": [
    "### std::istream_iterator  \n",
    "\n",
    "Note, cf. https://stackoverflow.com/questions/37588569/using-stdistream-iterator-to-read-binary-data-from-file-stops-prematuraly\n",
    "\" \t`istream_iterator` is an avatar of operator `>>`; it uses that operator to read from the stream. That is almost never what you want for reading binary data, because >> is a formatted input function. You could probably coerce it to do what you want by using manipulators such as noskipws on the stream, but it would still effectively remain a use of the wrong tool for the job.\n",
    "\n",
    "If you want an iterator-based access to binary data in a stream, you might be better off using an `istreambuf_iterator` (which is guaranteed to work character by character) instead.\"  Angew\n",
    "\n",
    "`std::istreambuf_iterator` is a single-pass input iterator that reads successive characters from the `std::basic_streambuf` object for which it was constructed.  "
   ]
  },
  {
   "cell_type": "code",
   "execution_count": null,
   "metadata": {
    "collapsed": true
   },
   "outputs": [],
   "source": []
  }
 ],
 "metadata": {
  "kernelspec": {
   "display_name": "Python 2",
   "language": "python",
   "name": "python2"
  },
  "language_info": {
   "codemirror_mode": {
    "name": "ipython",
    "version": 2
   },
   "file_extension": ".py",
   "mimetype": "text/x-python",
   "name": "python",
   "nbconvert_exporter": "python",
   "pygments_lexer": "ipython2",
   "version": "2.7.12"
  }
 },
 "nbformat": 4,
 "nbformat_minor": 2
}

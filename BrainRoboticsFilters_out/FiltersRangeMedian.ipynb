{
 "cells": [
  {
   "cell_type": "markdown",
   "metadata": {},
   "source": [
    "# Range Filter "
   ]
  },
  {
   "cell_type": "markdown",
   "metadata": {},
   "source": [
    "Let a scan be \"an array of length $N$ of float values representing distance measurements.\"  \n",
    "\n",
    "Surely, we can assume that the distances are nonnegative.  \n",
    "\n",
    "Let $x$ denote the received scan.  \n",
    "\n",
    "$$  \n",
    "\\begin{aligned}\n",
    "& x:\\lbrace 0 ,1,\\dots N-1 \\rbrace \\to \\mathbb{R}^+  \\\\\n",
    "& x: i \\mapsto x(i) \\in \\mathbb{R}^+, \\quad \\, \\text{ i.e. } x(i) \\geq 0 \\end{aligned}  \n",
    "$$  \n",
    "\n",
    "Note $x\\in (\\mathbb{R}^+)^N$, $x$ itself is a $N$-dim. vector.    \n",
    "\n",
    "Typically, $200 \\leq N \\leq 1000$ or $N \\in \\sim [200, 1000]$ and $N$ fixed.  \n",
    "\n",
    "$x(i) \\in [0.03, 50]$ meters typically, i.e. $\\forall \\, i \\in \\lbrace 0 ,1\\dots N-1 \\rbrace$, $0.03 \\leq x(i) \\leq 50$.  \n",
    "\n",
    "Scans are time dependent, but could possibly come irregularly.  The index the sequence of scans, received, doesn't correspond to *exact* regular intervals of time, but the index just correspond to the sequence the scans are received.  Nevertheless, denote this index with $t$.  \n",
    "\n",
    "For the range filter, let the desired minimum range and maximum range allowed, to be denoted as follows:  \n",
    "\n",
    "$$  \n",
    "\\begin{aligned}\n",
    "& \\verb|range_min| \\equiv a \\in \\mathbb{R}^+  \\\\\n",
    "& \\verb|range_max| \\equiv b \\in \\mathbb{R}^+ \n",
    "\\end{aligned}  \n",
    "$$  \n",
    "\n",
    "Denote a filter $c$ such that (s.t.)  \n",
    "\n",
    "$$\n",
    "\\begin{aligned}\n",
    "& c: \\mathbb{R}^+ \\times \\mathbb{R}^+ \\times (\\mathbb{R}^+)^N \\to (\\mathbb{R}^+)^N \\\\ \n",
    "& c:(a,b),x \\mapsto c_{(a,b)}(x) \\text{ where } \n",
    "& (c_{(a,b)}(x))(i) = \\begin{cases}  x(i) & \\text{ if } a \\leq x(i) \\leq b \\\\ \n",
    "a & \\text{ if } x(i) < a \\\\ \n",
    "b & \\text{ if } x(i) > b \\end{cases}  \n",
    "\\end{aligned}\n",
    "$$"
   ]
  },
  {
   "cell_type": "code",
   "execution_count": 1,
   "metadata": {
    "collapsed": true
   },
   "outputs": [],
   "source": [
    "import numpy\n",
    "import numpy as np "
   ]
  },
  {
   "cell_type": "code",
   "execution_count": 11,
   "metadata": {
    "collapsed": true
   },
   "outputs": [],
   "source": [
    "from RangeFilter import rangeFilter"
   ]
  },
  {
   "cell_type": "code",
   "execution_count": 13,
   "metadata": {
    "collapsed": false
   },
   "outputs": [
    {
     "name": "stdout",
     "output_type": "stream",
     "text": [
      "[ 460.50470676  246.99247964  228.96118733  341.00703678  230.03603991\n",
      "  376.55211866  397.53721368  472.91653585  382.42363238  402.3012612 ]\n"
     ]
    }
   ],
   "source": [
    "# make \"boilerplate\" test values  \n",
    "x = np.random.uniform(200,500,10)\n",
    "print(x)"
   ]
  },
  {
   "cell_type": "markdown",
   "metadata": {},
   "source": [
    "Say we want to filter values less than $a = $300 m and greater than $b = $400 m.  "
   ]
  },
  {
   "cell_type": "code",
   "execution_count": 15,
   "metadata": {
    "collapsed": false
   },
   "outputs": [
    {
     "name": "stdout",
     "output_type": "stream",
     "text": [
      "[ 400.          300.          300.          341.00703678  300.\n",
      "  376.55211866  397.53721368  400.          382.42363238  400.        ]\n"
     ]
    }
   ],
   "source": [
    "a=300\n",
    "b=400\n",
    "print( rangeFilter(x,a,b))"
   ]
  },
  {
   "cell_type": "code",
   "execution_count": 16,
   "metadata": {
    "collapsed": false
   },
   "outputs": [
    {
     "name": "stdout",
     "output_type": "stream",
     "text": [
      "[ 369.17383135  435.77318464  359.89316646  220.12405412  379.27785428\n",
      "  443.37053483  391.80282739  367.17252684  380.97996971  437.4079532\n",
      "  374.84735006  269.9400684   454.71536971  315.87075655  306.06648846]\n"
     ]
    }
   ],
   "source": [
    "# We can do this with \"large\" number of values\n",
    "N=300\n",
    "x_large = np.random.uniform(200,500,N)\n",
    "print(x_large[:15])"
   ]
  },
  {
   "cell_type": "code",
   "execution_count": 17,
   "metadata": {
    "collapsed": false
   },
   "outputs": [
    {
     "name": "stdout",
     "output_type": "stream",
     "text": [
      "[ 369.17383135  400.          359.89316646  300.          379.27785428\n",
      "  400.          391.80282739  367.17252684  380.97996971  400.\n",
      "  374.84735006  300.          400.          315.87075655  306.06648846]\n"
     ]
    }
   ],
   "source": [
    "a=300\n",
    "b=400\n",
    "y_large = rangeFilter(x_large,a,b)\n",
    "print(y_large[:15])"
   ]
  },
  {
   "cell_type": "code",
   "execution_count": 20,
   "metadata": {
    "collapsed": false
   },
   "outputs": [
    {
     "name": "stdout",
     "output_type": "stream",
     "text": [
      "[]\n",
      "[]\n"
     ]
    }
   ],
   "source": [
    "# Indeed, we've filtered out all the values less than a and greater than b:\n",
    "print( y_large[y_large <a  ] )\n",
    "print(y_large[y_large>b])      "
   ]
  },
  {
   "cell_type": "markdown",
   "metadata": {},
   "source": [
    "# Temporal Median Filter "
   ]
  },
  {
   "cell_type": "markdown",
   "metadata": {},
   "source": [
    "We're given an array of $N$ received values for a scan at some specific \"time\" $t$ (it could correspond to the actual time, or just an index of the sequence of scans received) $x(t) \\in (\\mathbb{R}^+)^N$.  \n",
    "\n",
    "Assume we can keep $D$ scans in the output of the filter, because we're given a single scan (the \"present\" one) each time we receive a single scan in an update.  So the plan is to append the current, received scan to this.  \n",
    "\n",
    "So while our filter implementation will take a 2-dim. array of D rows of scans, we know we've made them available from the previous use of scan.  \n"
   ]
  },
  {
   "cell_type": "code",
   "execution_count": 72,
   "metadata": {
    "collapsed": false
   },
   "outputs": [],
   "source": [
    "# Generate some test received scans in time  \n",
    "a=200\n",
    "b=500 \n",
    "N=6\n",
    "x0 = np.random.uniform(a,b,(1,N))\n",
    "x1 = np.random.uniform(a,b,(1,N))\n",
    "x2 = np.random.uniform(a,b,(2,N))\n",
    "x3 = np.random.uniform(a,b,(3,N))\n",
    "x4 = np.random.uniform(a,b,(4,N))\n",
    "x5 = np.random.uniform(a,b,(5,N))"
   ]
  },
  {
   "cell_type": "code",
   "execution_count": 73,
   "metadata": {
    "collapsed": false
   },
   "outputs": [],
   "source": [
    "from TemporalMedianFilter import temporalMedianFilter "
   ]
  },
  {
   "cell_type": "code",
   "execution_count": 74,
   "metadata": {
    "collapsed": false
   },
   "outputs": [
    {
     "name": "stdout",
     "output_type": "stream",
     "text": [
      "[[ 265.81394214  460.93750269  293.26527349  319.69014766  389.39820789\n",
      "   272.51089681]]\n"
     ]
    }
   ],
   "source": [
    "print(x0)"
   ]
  },
  {
   "cell_type": "code",
   "execution_count": 75,
   "metadata": {
    "collapsed": true
   },
   "outputs": [],
   "source": [
    "D=3 # change this if you'd like, number of previous scans"
   ]
  },
  {
   "cell_type": "code",
   "execution_count": 76,
   "metadata": {
    "collapsed": false
   },
   "outputs": [
    {
     "data": {
      "text/plain": [
       "array([[ 265.81394214,  460.93750269,  293.26527349,  319.69014766,\n",
       "         389.39820789,  272.51089681]])"
      ]
     },
     "execution_count": 76,
     "metadata": {},
     "output_type": "execute_result"
    }
   ],
   "source": [
    "x0"
   ]
  },
  {
   "cell_type": "code",
   "execution_count": 77,
   "metadata": {
    "collapsed": false
   },
   "outputs": [
    {
     "name": "stdout",
     "output_type": "stream",
     "text": [
      "[[ 265.81394214  460.93750269  293.26527349  319.69014766  389.39820789\n",
      "   272.51089681]]\n",
      "[[ 265.81394214  460.93750269  293.26527349  319.69014766  389.39820789\n",
      "   272.51089681]]\n"
     ]
    }
   ],
   "source": [
    "y0 = temporalMedianFilter(D,x0)\n",
    "print(y0[0])\n",
    "print(y0[1])"
   ]
  },
  {
   "cell_type": "code",
   "execution_count": 78,
   "metadata": {
    "collapsed": false
   },
   "outputs": [
    {
     "name": "stdout",
     "output_type": "stream",
     "text": [
      "[[ 254.5103058   400.40999625  381.11195419  441.15956806  328.15563245\n",
      "   494.06279243]]\n"
     ]
    }
   ],
   "source": [
    "print(x1)"
   ]
  },
  {
   "cell_type": "code",
   "execution_count": 79,
   "metadata": {
    "collapsed": false
   },
   "outputs": [
    {
     "name": "stdout",
     "output_type": "stream",
     "text": [
      "[ 260.16212397  430.67374947  337.18861384  380.42485786  358.77692017\n",
      "  383.28684462]\n",
      "[[ 254.5103058   400.40999625  381.11195419  441.15956806  328.15563245\n",
      "   494.06279243]\n",
      " [ 265.81394214  460.93750269  293.26527349  319.69014766  389.39820789\n",
      "   272.51089681]]\n"
     ]
    }
   ],
   "source": [
    "y1 = temporalMedianFilter(D,x0, x1)\n",
    "print(y1[0])\n",
    "print(y1[1])"
   ]
  },
  {
   "cell_type": "code",
   "execution_count": 80,
   "metadata": {
    "collapsed": false
   },
   "outputs": [
    {
     "name": "stdout",
     "output_type": "stream",
     "text": [
      "[[ 476.13733137  224.9316497   418.77826696  475.95062706  386.38583588\n",
      "   457.15018023]\n",
      " [ 290.85632765  390.00662285  347.34235103  360.0513805   205.5876284\n",
      "   315.9083842 ]]\n",
      "[ 290.85632765  390.00662285  347.34235103  360.0513805   386.38583588\n",
      "  315.9083842 ]\n",
      "[[ 476.13733137  224.9316497   418.77826696  475.95062706  386.38583588\n",
      "   457.15018023]\n",
      " [ 290.85632765  390.00662285  347.34235103  360.0513805   205.5876284\n",
      "   315.9083842 ]\n",
      " [ 265.81394214  460.93750269  293.26527349  319.69014766  389.39820789\n",
      "   272.51089681]]\n"
     ]
    }
   ],
   "source": [
    "print(x2)\n",
    "y2 = temporalMedianFilter(D,x0, x2)\n",
    "print(y2[0])\n",
    "print(y2[1])"
   ]
  },
  {
   "cell_type": "code",
   "execution_count": 81,
   "metadata": {
    "collapsed": false
   },
   "outputs": [
    {
     "name": "stdout",
     "output_type": "stream",
     "text": [
      "[[ 260.39991427  499.20511325  277.91510477  349.65783032  347.13382937\n",
      "   423.66340537]\n",
      " [ 486.61216195  299.93364688  287.95456371  404.17564254  379.4327838\n",
      "   362.39173411]\n",
      " [ 240.95235001  231.9396711   300.94594396  326.27827501  259.77430152\n",
      "   418.75722631]]\n"
     ]
    }
   ],
   "source": [
    "print(x3)"
   ]
  },
  {
   "cell_type": "code",
   "execution_count": 82,
   "metadata": {
    "collapsed": false
   },
   "outputs": [
    {
     "name": "stdout",
     "output_type": "stream",
     "text": [
      "[ 263.1069282   380.43557479  290.6099186   337.96805267  363.28330658\n",
      "  390.57448021]\n",
      "[[ 486.61216195  299.93364688  287.95456371  404.17564254  379.4327838\n",
      "   362.39173411]\n",
      " [ 240.95235001  231.9396711   300.94594396  326.27827501  259.77430152\n",
      "   418.75722631]\n",
      " [ 265.81394214  460.93750269  293.26527349  319.69014766  389.39820789\n",
      "   272.51089681]]\n"
     ]
    }
   ],
   "source": [
    "y3 = temporalMedianFilter(D,x0, x3)\n",
    "print(y3[0])\n",
    "print(y3[1])"
   ]
  },
  {
   "cell_type": "code",
   "execution_count": 83,
   "metadata": {
    "collapsed": false
   },
   "outputs": [
    {
     "name": "stdout",
     "output_type": "stream",
     "text": [
      "[[ 265.81394214  460.93750269  293.26527349  319.69014766  389.39820789\n",
      "   272.51089681]]\n",
      "[[ 236.99288321  444.55805251  332.13040375  444.85376198  377.92240928\n",
      "   485.06948046]\n",
      " [ 374.56153518  450.33850449  214.14121026  230.81200136  488.09404605\n",
      "   336.22883112]\n",
      " [ 274.53389432  430.03407115  423.96911226  453.32496744  234.3487165\n",
      "   388.9591694 ]\n",
      " [ 222.88910227  441.05666961  217.5780381   435.3153595   457.20635892\n",
      "   254.66735952]]\n"
     ]
    }
   ],
   "source": [
    "print(x0)\n",
    "print(x4)"
   ]
  },
  {
   "cell_type": "code",
   "execution_count": 84,
   "metadata": {
    "collapsed": false
   },
   "outputs": [
    {
     "name": "stdout",
     "output_type": "stream",
     "text": [
      "[ 270.17391823  445.69758705  255.42165579  377.50275358  423.30228341\n",
      "  304.36986397]\n",
      "[[ 274.53389432  430.03407115  423.96911226  453.32496744  234.3487165\n",
      "   388.9591694 ]\n",
      " [ 222.88910227  441.05666961  217.5780381   435.3153595   457.20635892\n",
      "   254.66735952]\n",
      " [ 265.81394214  460.93750269  293.26527349  319.69014766  389.39820789\n",
      "   272.51089681]]\n"
     ]
    }
   ],
   "source": [
    "y4 = temporalMedianFilter(D,x0, x4)\n",
    "print(y4[0])\n",
    "print(y4[1])"
   ]
  },
  {
   "cell_type": "code",
   "execution_count": 85,
   "metadata": {
    "collapsed": false
   },
   "outputs": [
    {
     "name": "stdout",
     "output_type": "stream",
     "text": [
      "[[ 265.81394214  460.93750269  293.26527349  319.69014766  389.39820789\n",
      "   272.51089681]]\n",
      "[[ 359.3036999   482.92601934  291.24780113  291.82480684  324.58696899\n",
      "   349.11022875]\n",
      " [ 385.61778109  282.76502865  419.8864829   414.05861051  217.42423864\n",
      "   389.80808756]\n",
      " [ 387.81139039  477.56898368  279.16555614  313.01808721  486.4159077\n",
      "   362.53871263]\n",
      " [ 317.86378778  322.35314022  479.98845876  294.45910473  265.98050998\n",
      "   459.85803015]\n",
      " [ 392.26302457  208.36498126  206.65145785  348.08764123  215.14328356\n",
      "   286.40137874]]\n"
     ]
    }
   ],
   "source": [
    "print(x0)\n",
    "print(x5)"
   ]
  },
  {
   "cell_type": "code",
   "execution_count": 86,
   "metadata": {
    "collapsed": false
   },
   "outputs": [
    {
     "name": "stdout",
     "output_type": "stream",
     "text": [
      "[ 352.83758909  391.64532146  286.21541482  316.35411744  327.68935894\n",
      "  324.47004569]\n",
      "[[ 317.86378778  322.35314022  479.98845876  294.45910473  265.98050998\n",
      "   459.85803015]\n",
      " [ 392.26302457  208.36498126  206.65145785  348.08764123  215.14328356\n",
      "   286.40137874]\n",
      " [ 265.81394214  460.93750269  293.26527349  319.69014766  389.39820789\n",
      "   272.51089681]]\n"
     ]
    }
   ],
   "source": [
    "y5 = temporalMedianFilter(D,x0, x5)\n",
    "print(y5[0])\n",
    "print(y5[1])"
   ]
  },
  {
   "cell_type": "code",
   "execution_count": null,
   "metadata": {
    "collapsed": true
   },
   "outputs": [],
   "source": []
  }
 ],
 "metadata": {
  "kernelspec": {
   "display_name": "Python 2",
   "language": "python",
   "name": "python2"
  },
  "language_info": {
   "codemirror_mode": {
    "name": "ipython",
    "version": 2
   },
   "file_extension": ".py",
   "mimetype": "text/x-python",
   "name": "python",
   "nbconvert_exporter": "python",
   "pygments_lexer": "ipython2",
   "version": "2.7.12"
  }
 },
 "nbformat": 4,
 "nbformat_minor": 2
}
